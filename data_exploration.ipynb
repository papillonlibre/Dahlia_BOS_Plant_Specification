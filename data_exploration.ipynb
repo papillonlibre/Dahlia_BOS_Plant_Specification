{
 "cells": [
  {
   "cell_type": "code",
   "execution_count": 1,
   "metadata": {},
   "outputs": [],
   "source": [
    "import os\n",
    "import cv2\n",
    "\n",
    "# Specify the path to the folder containing JPG files\n",
    "folder_path = 'BTTAIxNYBG-train/BTTAIxNYBG-train'"
   ]
  },
  {
   "cell_type": "code",
   "execution_count": 2,
   "metadata": {},
   "outputs": [
    {
     "name": "stdout",
     "output_type": "stream",
     "text": [
      "Analysis Results:\n",
      "Total images: 81946\n",
      "Grayscale images: 0\n",
      "Colorful images: 81946\n"
     ]
    }
   ],
   "source": [
    "# Initialize counters\n",
    "grayscale_count = 0\n",
    "colorful_count = 0\n",
    "\n",
    "# List all files in the folder\n",
    "files = os.listdir(folder_path)\n",
    "\n",
    "# Iterate over each file\n",
    "for file in files:\n",
    "    # Check if the file is a JPG file\n",
    "    if file.endswith('.jpg'):\n",
    "        # Construct the full path to the image file\n",
    "        image_path = os.path.join(folder_path, file)\n",
    "        \n",
    "        # Read the image using OpenCV\n",
    "        image = cv2.imread(image_path)\n",
    "        \n",
    "        # Check if the image was successfully read\n",
    "        if image is not None:\n",
    "            # Check if the image is grayscale\n",
    "            if len(image.shape) < 3:\n",
    "                grayscale_count += 1\n",
    "            else:\n",
    "                colorful_count += 1\n",
    "                \n",
    "        else:\n",
    "            print(f\"Error reading image '{file}'\")\n",
    "\n",
    "# Output the results\n",
    "print(\"Analysis Results:\")\n",
    "print(f\"Total images: {len(files)}\")\n",
    "print(f\"Grayscale images: {grayscale_count}\")\n",
    "print(f\"Colorful images: {colorful_count}\")"
   ]
  }
 ],
 "metadata": {
  "kernelspec": {
   "display_name": "comp_vis",
   "language": "python",
   "name": "python3"
  },
  "language_info": {
   "codemirror_mode": {
    "name": "ipython",
    "version": 3
   },
   "file_extension": ".py",
   "mimetype": "text/x-python",
   "name": "python",
   "nbconvert_exporter": "python",
   "pygments_lexer": "ipython3",
   "version": "3.10.9"
  }
 },
 "nbformat": 4,
 "nbformat_minor": 2
}
